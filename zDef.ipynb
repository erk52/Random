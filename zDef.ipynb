{
 "cells": [
  {
   "cell_type": "code",
   "execution_count": 66,
   "metadata": {
    "collapsed": false
   },
   "outputs": [],
   "source": [
    "import numpy as np\n",
    "import matplotlib.pyplot as plt\n",
    "%matplotlib inline\n",
    "from collections import defaultdict\n",
    "import random"
   ]
  },
  {
   "cell_type": "code",
   "execution_count": 60,
   "metadata": {
    "collapsed": false
   },
   "outputs": [],
   "source": [
    "def show_board(board_state):\n",
    "    fig, ax = plt.subplots(figsize=(8,8))\n",
    "    #Draw lines\n",
    "    ax.plot([0, 3], [1, 1], 'k-', linewidth=5)\n",
    "    ax.plot([0, 3], [2, 2], 'k-', linewidth=5)\n",
    "    ax.plot([1, 1], [0, 3], 'k-', linewidth=5)\n",
    "    ax.plot([2, 2], [0, 3], 'k-', linewidth=5)\n",
    "    \n",
    "    ax.set_xlim(0,3)\n",
    "    ax.set_ylim(0,3)\n",
    "    \n",
    "    #Draw markers\n",
    "    for i in range(9):\n",
    "        if board_state[i]:\n",
    "            x = i % 3 + 0.5\n",
    "            y = i // 3 + 0.5\n",
    "            if board_state[i] > 0:\n",
    "                marker = 'rx'\n",
    "            else:\n",
    "                marker = 'bo'\n",
    "            ax.plot([x], [y], marker, markersize=55, mfc='none', linewidth=4)"
   ]
  },
  {
   "cell_type": "code",
   "execution_count": 283,
   "metadata": {
    "collapsed": false
   },
   "outputs": [],
   "source": [
    "def half():\n",
    "    return 0.5\n",
    "X_table = defaultdict(half)\n",
    "O_table = defaultdict(half)"
   ]
  },
  {
   "cell_type": "code",
   "execution_count": 295,
   "metadata": {
    "collapsed": false
   },
   "outputs": [],
   "source": [
    "def make_x_move(board_state, t=0):\n",
    "    alpha = 0.5\n",
    "    explore_prob = 0.30*np.exp(-t / 10000)\n",
    "    possible_moves = np.where(board_state == 0)[0]\n",
    "    if len(possible_moves) == 9:\n",
    "        return random.choice(possible_moves)\n",
    "    if explore_prob > random.uniform(0,1):\n",
    "        choice = random.choice(possible_moves)\n",
    "    else:\n",
    "        moves, scores = [], []\n",
    "        for i in possible_moves:\n",
    "            new_state = board_state.copy()\n",
    "            new_state[i] = 1\n",
    "            moves.append(i)\n",
    "            scores.append(X_table[tuple(new_state)])\n",
    "        try: move_choices = [moves[i] for i in range(len(moves)) if scores[i] == max(scores)]\n",
    "        except: print(moves, scores, possible_moves)\n",
    "        choice = random.choice(move_choices)\n",
    "    return choice\n",
    "        \n",
    "def make_o_move(board_state, t=0):\n",
    "    alpha = 0.5\n",
    "    explore_prob = 0.30*np.exp(-t / 10000)\n",
    "    possible_moves = np.where(board_state == 0)[0]\n",
    "    if explore_prob > random.uniform(0,1):\n",
    "        print('rando!')\n",
    "        choice = random.choice(possible_moves)\n",
    "    else:\n",
    "        moves, scores = [], []\n",
    "        for i in possible_moves:\n",
    "            new_state = board_state.copy()\n",
    "            new_state[i] = -1\n",
    "            moves.append(i)\n",
    "            scores.append(O_table[tuple(new_state)])\n",
    "        move_choices = [moves[j] for j in range(len(moves)) if scores[j] == max(scores)]\n",
    "        choice = random.choice(move_choices)\n",
    "    return choice"
   ]
  },
  {
   "cell_type": "code",
   "execution_count": 262,
   "metadata": {
    "collapsed": false
   },
   "outputs": [],
   "source": [
    "def check_win(bs):\n",
    "    #Check rows\n",
    "    if (sum(bs[:3]) == 3) or (sum(bs[3:6]) == 3) or (sum(bs[6:]) == 3):\n",
    "        return 1\n",
    "    elif (sum(bs[:3]) == -3) or (sum(bs[3:6]) == -3) or (sum(bs[6:]) == -3):\n",
    "        return -1\n",
    "    #check columns\n",
    "    if (sum(bs[::3]) == 3) or (sum(bs[1::3]) == 3) or (sum(bs[2::3]) == 3):\n",
    "        return 1\n",
    "    elif (sum(bs[::3]) == -3) or (sum(bs[1::3]) == -3) or (sum(bs[2::3]) == -3):\n",
    "        return -1\n",
    "    #Check Diagonals\n",
    "    d1 = bs[0] + bs[4] + bs[8]\n",
    "    d2 = bs[2] + bs[4] + bs[6]\n",
    "    if d1 == 3 or d2 == 3:\n",
    "        return 1\n",
    "    elif d1 == -3 or d2 == -3:\n",
    "        return -1\n",
    "    \n",
    "    return 0"
   ]
  },
  {
   "cell_type": "code",
   "execution_count": 282,
   "metadata": {
    "collapsed": false
   },
   "outputs": [],
   "source": [
    "def run_game(t):\n",
    "    \n",
    "    states = []\n",
    "    winner = False\n",
    "    alpha = 0.9\n",
    "    board = np.zeros(9)\n",
    "    tied = False\n",
    "    while not winner:\n",
    "        X = make_x_move(board,t)\n",
    "        board[X] = 1\n",
    "        states.append(tuple(board))\n",
    "        winner = check_win(board)\n",
    "        if winner:\n",
    "            break\n",
    "            \n",
    "        if 0 not in board:\n",
    "            tied = True\n",
    "            break\n",
    "            \n",
    "        O = make_o_move(board,t)\n",
    "        board[O] = -1\n",
    "        states.append(tuple(board))\n",
    "        winner = check_win(board)\n",
    "        if 0 not in board:\n",
    "            tied = True\n",
    "            break\n",
    "            \n",
    "            \n",
    "    #show_board(board)\n",
    "    table = {1: X_table, -1: O_table}\n",
    "    assert len(states) > 4, \"Too few states for valid game\"\n",
    "    \n",
    "    \n",
    "    if not tied:\n",
    "        cur_player = int(winner)\n",
    "        table[cur_player][states[-1]] = 1\n",
    "        table[-cur_player][states[-2]] = 0\n",
    "    if tied:\n",
    "        if sum(board) > 0:\n",
    "            cur_player = 1\n",
    "        else: cur_player = -1\n",
    "        table[cur_player][states[-1]] = 0.95\n",
    "        table[-cur_player][states[-2]] = 0.95\n",
    "    k = len(states) - 3\n",
    "    while k >= 0:\n",
    "        cur_state = states[k]\n",
    "        next_state = states[k+2]\n",
    "        table[cur_player][cur_state] = table[cur_player][cur_state] + alpha *(table[cur_player][next_state] - table[cur_player][cur_state])\n",
    "        cur_player = -cur_player\n",
    "        k -= 1\n",
    "    \n",
    "    return winner, board"
   ]
  },
  {
   "cell_type": "code",
   "execution_count": 284,
   "metadata": {
    "collapsed": false
   },
   "outputs": [],
   "source": [
    "n = 0\n",
    "ng = []\n",
    "prob = []\n",
    "states = tuple(np.array([0.0, 0, 0,\n",
    "                         0, 1.0, 0,\n",
    "                         0, 0 ,0]))\n",
    "state2 = tuple(np.array([1.0, 0.0, -1.0,\n",
    "                         0, -1.0, -1.0,\n",
    "                         1.0, 1.0 ,0]))\n",
    "state3 = tuple(np.array([1.0, -1.0, 1.0,\n",
    "                         0, -1.0, 0,\n",
    "                         0, 0 ,1.0]))\n",
    "prob2, prob3 = [], []\n",
    "for k in range(50000):\n",
    "    n += 1\n",
    "    if n % 100 == 0:\n",
    "        ng.append(n)\n",
    "        prob.append(X_table[states])\n",
    "        prob2.append(X_table[state2])\n",
    "        prob3.append(X_table[state3])\n",
    "    run_game(k)\n",
    "plt.plot(ng, prob)\n",
    "plt.plot(ng, prob2)\n",
    "plt.plot(ng, prob3)"
   ]
  },
  {
   "cell_type": "code",
   "execution_count": 303,
   "metadata": {
    "collapsed": false
   },
   "outputs": [
    {
     "name": "stdout",
     "output_type": "stream",
     "text": [
      "   |     |   \n",
      "   |     |   \n",
      "   |     |   \n",
      "O prob 0.500\n",
      "   |  X  |   \n",
      "   |     |   \n",
      "   |     |   \n",
      "X prob 0.950\n",
      "Make o: 4\n"
     ]
    },
    {
     "name": "stderr",
     "output_type": "stream",
     "text": [
      "C:\\Users\\ekish\\AppData\\Local\\Continuum\\Anaconda3\\lib\\site-packages\\ipykernel\\__main__.py:36: DeprecationWarning: using a non-integer number instead of an integer will result in an error in the future\n"
     ]
    },
    {
     "name": "stdout",
     "output_type": "stream",
     "text": [
      "   |  X  |   \n",
      "   |  O  |   \n",
      "   |     |   \n",
      "O prob 0.095\n",
      "   |  X  |   \n",
      "   |  O  |   \n",
      "X  |     |   \n",
      "X prob 0.095\n",
      "Make o: 0\n",
      "O  |  X  |   \n",
      "   |  O  |   \n",
      "X  |     |   \n",
      "O prob 0.954\n",
      "O  |  X  |   \n",
      "   |  O  |   \n",
      "X  |     |  X\n",
      "X prob 0.950\n",
      "Make o: 7\n",
      "O  |  X  |   \n",
      "   |  O  |   \n",
      "X  |  O  |  X\n",
      "O prob 0.950\n",
      "O  |  X  |   \n",
      "X  |  O  |   \n",
      "X  |  O  |  X\n",
      "X prob 0.950\n",
      "Make o: 2\n",
      "O  |  X  |  O\n",
      "X  |  O  |   \n",
      "X  |  O  |  X\n",
      "O prob 0.950\n",
      "Tie game!\n"
     ]
    },
    {
     "data": {
      "image/png": "[encoded data removed]",
      "text/plain": [
       "<matplotlib.figure.Figure at 0xab815c0>"
      ]
     },
     "metadata": {},
     "output_type": "display_data"
    }
   ],
   "source": [
    "PLAY_AS = 'O'\n",
    "#Spaces numbered as:\n",
    "# 0 | 1 | 2\n",
    "# 3 | 4 | 5\n",
    "# 6 | 7 | 8\n",
    "\n",
    "new_game = np.zeros(9)\n",
    "mapping = {1.0: 'X', -1.0: 'O', 0.0 : ' '}\n",
    "while 0 in new_game or not check_win(new_game):\n",
    "    for i in [0,3,6]:\n",
    "        print (mapping[new_game[i]], ' | ', mapping[new_game[i+1]], ' | ', mapping[new_game[i+2]])\n",
    "    print('O prob {0:.3f}'.format(O_table[tuple(new_game)]))\n",
    "    \n",
    "    if PLAY_AS == 'O':\n",
    "        x = make_x_move(new_game,999999999)\n",
    "    else:\n",
    "        x = input('Make x:')\n",
    "        \n",
    "    new_game[x] = 1\n",
    "    if 0 not in new_game:\n",
    "        print(\"Tie game!\")\n",
    "        break\n",
    "    elif check_win(new_game):\n",
    "        print(\"X wins!\")\n",
    "        break\n",
    "        \n",
    "    for i in [0,3,6]:\n",
    "        print (mapping[new_game[i]], ' | ', mapping[new_game[i+1]], ' | ', mapping[new_game[i+2]])\n",
    "    print('X prob {0:0.3f}'.format(X_table[tuple(new_game)]))\n",
    "    \n",
    "    \n",
    "    if PLAY_AS == 'X':\n",
    "        o = make_o_move(new_game,999999999)\n",
    "    else:\n",
    "        o = input('Make o: ')\n",
    "    new_game[o] = -1\n",
    "show_board(new_game)"
   ]
  },
  {
   "cell_type": "markdown",
   "metadata": {},
   "source": []
  }
 ],
 "metadata": {
  "kernelspec": {
   "display_name": "Python 3",
   "language": "python",
   "name": "python3"
  },
  "language_info": {
   "codemirror_mode": {
    "name": "ipython",
    "version": 3
   },
   "file_extension": ".py",
   "mimetype": "text/x-python",
   "name": "python",
   "nbconvert_exporter": "python",
   "pygments_lexer": "ipython3",
   "version": "3.4.4"
  }
 },
 "nbformat": 4,
 "nbformat_minor": 0
}
